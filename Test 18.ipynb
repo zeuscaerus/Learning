{
 "cells": [
  {
   "cell_type": "code",
   "execution_count": 108,
   "metadata": {},
   "outputs": [
    {
     "name": "stdout",
     "output_type": "stream",
     "text": [
      "2.0\n"
     ]
    }
   ],
   "source": [
    "x,y=map(float,input().split())\n",
    "def step(a, b):\n",
    "    return a**b\n",
    "print(step(x,y))"
   ]
  },
  {
   "cell_type": "code",
   "execution_count": 109,
   "metadata": {},
   "outputs": [
    {
     "name": "stdout",
     "output_type": "stream",
     "text": [
      "1\n"
     ]
    }
   ],
   "source": [
    "x=list(map(int, input().split()))\n",
    "def add(i):\n",
    "    return min(i)\n",
    "print(add(x))"
   ]
  },
  {
   "cell_type": "code",
   "execution_count": 105,
   "metadata": {},
   "outputs": [
    {
     "name": "stdout",
     "output_type": "stream",
     "text": [
      "(123, 123)\n"
     ]
    }
   ],
   "source": [
    "x=list(map(int, input().split())) #вывод БОЛЕЕ одного значения\n",
    "def add(i):\n",
    "    return min(i), max(i)\n",
    "print(add(x))\n"
   ]
  },
  {
   "cell_type": "code",
   "execution_count": 32,
   "metadata": {},
   "outputs": [
    {
     "name": "stdout",
     "output_type": "stream",
     "text": [
      "0\n"
     ]
    }
   ],
   "source": [
    "def xor(x, y):\n",
    "    if x==y:\n",
    "        print(0)\n",
    "    else:\n",
    "        print(1)\n",
    "x, y=map(int,input().split())\n",
    "xor(x, y)"
   ]
  },
  {
   "cell_type": "code",
   "execution_count": 75,
   "metadata": {},
   "outputs": [
    {
     "name": "stdout",
     "output_type": "stream",
     "text": [
      "1.4142135623730951\n"
     ]
    }
   ],
   "source": [
    "def distance(x1, x2, y1, y2):\n",
    "    return ((x1 - x2)**2+(y1 - y2)**2)**0.5\n",
    "\n",
    "x1= float(input())\n",
    "y1= float(input())\n",
    "x2= float(input())\n",
    "y2= float(input())\n",
    "print(distance(x1, x2, y1, y2))"
   ]
  },
  {
   "cell_type": "code",
   "execution_count": 76,
   "metadata": {},
   "outputs": [
    {
     "name": "stdout",
     "output_type": "stream",
     "text": [
      "5\n"
     ]
    }
   ],
   "source": [
    "num=int(input())\n",
    "def nDigs(number):\n",
    "    n_str=str(num)\n",
    "    return len(n_str)\n",
    "print(nDigs(num))\n",
    "\n"
   ]
  },
  {
   "cell_type": "code",
   "execution_count": 102,
   "metadata": {},
   "outputs": [
    {
     "name": "stdout",
     "output_type": "stream",
     "text": [
      "321\n"
     ]
    }
   ],
   "source": [
    "num=list(map(int, input()))\n",
    "def rev(b):\n",
    "    return reversed(b)\n",
    "print(*rev(num), sep='')"
   ]
  }
 ],
 "metadata": {
  "kernelspec": {
   "display_name": "Python 3.10.7 64-bit (microsoft store)",
   "language": "python",
   "name": "python3"
  },
  "language_info": {
   "codemirror_mode": {
    "name": "ipython",
    "version": 3
   },
   "file_extension": ".py",
   "mimetype": "text/x-python",
   "name": "python",
   "nbconvert_exporter": "python",
   "pygments_lexer": "ipython3",
   "version": "3.10.7"
  },
  "orig_nbformat": 4,
  "vscode": {
   "interpreter": {
    "hash": "05a8b45cdbf6459e0dc587c73d132bc5afb3269bf0831f6ca18739b001bf9a43"
   }
  }
 },
 "nbformat": 4,
 "nbformat_minor": 2
}
