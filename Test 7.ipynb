{
 "cells": [
  {
   "cell_type": "code",
   "execution_count": 19,
   "metadata": {},
   "outputs": [
    {
     "name": "stdout",
     "output_type": "stream",
     "text": [
      "1 2 3 4 5 6 7 8 9 10 "
     ]
    }
   ],
   "source": [
    "a, b=int(input()), int(input())\n",
    "for i in range(a, b+1):\n",
    "    print(i, end=' ')"
   ]
  },
  {
   "cell_type": "code",
   "execution_count": 28,
   "metadata": {},
   "outputs": [
    {
     "name": "stdout",
     "output_type": "stream",
     "text": [
      "10 9 8 7 6 5 4 3 2 1 "
     ]
    }
   ],
   "source": [
    "a, b=int(input()), int(input())\n",
    "if a<b:\n",
    "    for i in range(a, b+1):\n",
    "        print(i, end=' ')\n",
    "else:\n",
    "    for i in range(a, b-1, -1):\n",
    "        print(i, end=' ')"
   ]
  },
  {
   "cell_type": "code",
   "execution_count": 45,
   "metadata": {},
   "outputs": [
    {
     "name": "stdout",
     "output_type": "stream",
     "text": [
      "7 6 5 4 3 2 1 "
     ]
    }
   ],
   "source": [
    "a, b=int(input()), int(input())\n",
    "for i in range(a - (a + 1) % 2, b - b % 2, -2):\n",
    "    print(i, end=' ')"
   ]
  },
  {
   "cell_type": "code",
   "execution_count": 56,
   "metadata": {},
   "outputs": [
    {
     "name": "stdout",
     "output_type": "stream",
     "text": [
      "2 4 6 8 10 12 14 16 "
     ]
    }
   ],
   "source": [
    "a, b=int(input()), int(input())\n",
    "for i in range(a+a%2 , b-(b+1)%2, 2):\n",
    "    print(i, end=' ')"
   ]
  },
  {
   "cell_type": "code",
   "execution_count": 96,
   "metadata": {},
   "outputs": [
    {
     "name": "stdout",
     "output_type": "stream",
     "text": [
      "-121899\n"
     ]
    }
   ],
   "source": [
    "a, b=int(input()), int(input())\n",
    "sum=[]\n",
    "c=0\n",
    "if b>=0:\n",
    "    for i in range(b):\n",
    "        c=c+a\n",
    "        sum.extend([c])\n",
    "    print(sum[-1])\n",
    "else:\n",
    "    for i in range(b*-1):\n",
    "        c=c+a\n",
    "        sum.extend([c])\n",
    "    print(sum[-1]*-1)\n"
   ]
  },
  {
   "cell_type": "code",
   "execution_count": 16,
   "metadata": {},
   "outputs": [
    {
     "name": "stdout",
     "output_type": "stream",
     "text": [
      "25\n",
      "36\n",
      "49\n",
      "64\n",
      "81\n",
      "100\n",
      "121\n",
      "144\n"
     ]
    }
   ],
   "source": [
    "a, b=int(input()), int(input())\n",
    "if b==9 or b==1:\n",
    "    print(b)\n",
    "else:\n",
    "    for i in range(a, b):\n",
    "        i**=0.5\n",
    "        s=i//1\n",
    "        if i==s:\n",
    "            print(int(i)**2)"
   ]
  },
  {
   "cell_type": "code",
   "execution_count": 134,
   "metadata": {},
   "outputs": [
    {
     "name": "stdout",
     "output_type": "stream",
     "text": [
      "24\n"
     ]
    }
   ],
   "source": [
    "a=1\n",
    "n=int(input())\n",
    "for i in range(1, n+1):\n",
    "    a*=i\n",
    "print(a)"
   ]
  },
  {
   "cell_type": "code",
   "execution_count": 139,
   "metadata": {},
   "outputs": [
    {
     "name": "stdout",
     "output_type": "stream",
     "text": [
      "0\n"
     ]
    }
   ],
   "source": [
    "a=0\n",
    "for i in range(int(input())):\n",
    "    if int(input()) == 0:\n",
    "        a += 1\n",
    "print(a)"
   ]
  },
  {
   "cell_type": "code",
   "execution_count": 173,
   "metadata": {},
   "outputs": [
    {
     "name": "stdout",
     "output_type": "stream",
     "text": [
      "1 2 4 8 16 32 "
     ]
    }
   ],
   "source": [
    "a=int(input())\n",
    "for i in range (1, a+1):\n",
    "    if a%i==0:\n",
    "        print(i, end=' ')"
   ]
  },
  {
   "cell_type": "code",
   "execution_count": 186,
   "metadata": {},
   "outputs": [
    {
     "name": "stdout",
     "output_type": "stream",
     "text": [
      "15\n"
     ]
    }
   ],
   "source": [
    "a=int(input())   \n",
    "sum=0   \n",
    "while a>0:           \n",
    "    d=a%10           \n",
    "    a=a//10           \n",
    "    sum += d   \n",
    "print(sum)"
   ]
  },
  {
   "cell_type": "code",
   "execution_count": 189,
   "metadata": {},
   "outputs": [
    {
     "name": "stdout",
     "output_type": "stream",
     "text": [
      "17\n"
     ]
    }
   ],
   "source": [
    "a=0\n",
    "b=int(input())\n",
    "while b != 0:\n",
    "    a += b\n",
    "    b = int(input())\n",
    "print(a)"
   ]
  },
  {
   "cell_type": "code",
   "execution_count": 7,
   "metadata": {},
   "outputs": [
    {
     "name": "stdout",
     "output_type": "stream",
     "text": [
      "3\n"
     ]
    }
   ],
   "source": [
    "nums=[] #insert empty list\n",
    "a=int(input()) #insert a number \n",
    "while a != 0: #начало цикла\n",
    "    nums.extend([a]) #формирование списка (каждое число вносится в список, после ввода 0 формирование списка завершается)\n",
    "    a=int(input()) #ввод следующего числа\n",
    "nums.sort() #сортировка списка от меньшего к наибольшему\n",
    "print(nums[-1]) #вывод последнего значения списка (наибольшее значение)"
   ]
  },
  {
   "cell_type": "code",
   "execution_count": 8,
   "metadata": {},
   "outputs": [
    {
     "name": "stdout",
     "output_type": "stream",
     "text": [
      "8\n"
     ]
    }
   ],
   "source": [
    "n = int(input()) #число фибанначи\n",
    "if n == 0:\n",
    "    print(0)\n",
    "else:\n",
    "    a, b = 0, 1\n",
    "    for i in range(2, n + 1):\n",
    "        a, b = b, a + b\n",
    "    print(b)"
   ]
  },
  {
   "cell_type": "code",
   "execution_count": 9,
   "metadata": {},
   "outputs": [
    {
     "name": "stdout",
     "output_type": "stream",
     "text": [
      "4\n"
     ]
    }
   ],
   "source": [
    "list_a=[] #insert empty list\n",
    "a=int(input()) #insert a number \n",
    "while a != 0: #начало цикла\n",
    "    list_a.extend([a]) #формирование списка (каждое число вносится в список, после ввода 0 формирование списка завершается)\n",
    "    a=int(input()) #ввод следующего числа\n",
    "list_a.sort() #сортировка списка от меньшего к большему\n",
    "list_b=len(list_a) #подсчет количества чисел в списке\n",
    "c=list_b-1 #выявление сколько чисел меньше того, которое идет за ним\n",
    "print(c)"
   ]
  },
  {
   "cell_type": "code",
   "execution_count": 17,
   "metadata": {},
   "outputs": [
    {
     "name": "stdout",
     "output_type": "stream",
     "text": [
      "*****\n",
      "*****\n",
      "*****\n",
      "*****\n",
      "*****\n"
     ]
    }
   ],
   "source": [
    "n = int(input()) #задача про квадрат\n",
    "for i in range(n):\n",
    "     for j in range(n):\n",
    "          print('*', end='')\n",
    "     print()"
   ]
  },
  {
   "cell_type": "code",
   "execution_count": 15,
   "metadata": {},
   "outputs": [
    {
     "name": "stdout",
     "output_type": "stream",
     "text": [
      "385\n"
     ]
    }
   ],
   "source": [
    "s=0\n",
    "a=int(input())\n",
    "for i in range (1, a+1):\n",
    "    s=s+i**2\n",
    "print(s)\n"
   ]
  }
 ],
 "metadata": {
  "kernelspec": {
   "display_name": "Python 3.10.7 64-bit",
   "language": "python",
   "name": "python3"
  },
  "language_info": {
   "codemirror_mode": {
    "name": "ipython",
    "version": 3
   },
   "file_extension": ".py",
   "mimetype": "text/x-python",
   "name": "python",
   "nbconvert_exporter": "python",
   "pygments_lexer": "ipython3",
   "version": "3.10.7"
  },
  "orig_nbformat": 4,
  "vscode": {
   "interpreter": {
    "hash": "8d7cb472eb4f6eb093ff767bf69b4e64fe5027d61ef41eac4770187a06a8b999"
   }
  }
 },
 "nbformat": 4,
 "nbformat_minor": 2
}
