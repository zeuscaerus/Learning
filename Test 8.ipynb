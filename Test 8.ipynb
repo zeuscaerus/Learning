{
 "cells": [
  {
   "cell_type": "code",
   "execution_count": 12,
   "metadata": {},
   "outputs": [
    {
     "name": "stdout",
     "output_type": "stream",
     "text": [
      "1 2 3 4 5 6 7 8 9\n",
      "2 4 6 8 10 12 14 16 18\n",
      "3 6 9 12 15 18 21 24 27\n",
      "4 8 12 16 20 24 28 32 36\n",
      "5 10 15 20 25 30 35 40 45\n",
      "6 12 18 24 30 36 42 48 54\n",
      "7 14 21 28 35 42 49 56 63\n",
      "8 16 24 32 40 48 56 64 72\n",
      "9 18 27 36 45 54 63 72 81\n"
     ]
    }
   ],
   "source": [
    "for i in range(1,10): #таблица умножение от 1 до 9\n",
    "        print (' '.join(str(i*v) for v in range(1,10)))"
   ]
  },
  {
   "cell_type": "code",
   "execution_count": 13,
   "metadata": {},
   "outputs": [
    {
     "name": "stdout",
     "output_type": "stream",
     "text": [
      "2 3 4 5 6 7 8 9 10\n",
      "3 4 5 6 7 8 9 10 11\n",
      "4 5 6 7 8 9 10 11 12\n",
      "5 6 7 8 9 10 11 12 13\n",
      "6 7 8 9 10 11 12 13 14\n",
      "7 8 9 10 11 12 13 14 15\n",
      "8 9 10 11 12 13 14 15 16\n",
      "9 10 11 12 13 14 15 16 17\n",
      "10 11 12 13 14 15 16 17 18\n"
     ]
    }
   ],
   "source": [
    "for i in range(1,10): #таблица сложения от 1 до 9\n",
    "        print (' '.join(str(i+v) for v in range(1,10)))"
   ]
  },
  {
   "cell_type": "code",
   "execution_count": 34,
   "metadata": {},
   "outputs": [
    {
     "name": "stdout",
     "output_type": "stream",
     "text": [
      "1 1 1 1 1\n",
      "2 4 8 16 32\n",
      "3 9 27 81 243\n",
      "4 16 64 256 1024\n",
      "5 25 125 625 3125\n"
     ]
    }
   ],
   "source": [
    "for i in range(1,6): #таблица сложения степеней от 1 до 5\n",
    "        print (' '.join(str(i**v) for v in range(1,6)))"
   ]
  },
  {
   "cell_type": "code",
   "execution_count": 137,
   "metadata": {},
   "outputs": [
    {
     "name": "stdout",
     "output_type": "stream",
     "text": [
      "1.0 0.5 0.33 0.25 0.2 \n",
      "2.0 1.0 0.67 0.5 0.4 \n",
      "3.0 1.5 1.0 0.75 0.6 \n",
      "4.0 2.0 1.33 1.0 0.8 \n",
      "5.0 2.5 1.67 1.25 1.0 \n"
     ]
    }
   ],
   "source": [
    "for i in range(1,6): #деление с округление до 2 знаков после запятой\n",
    "    for j in range(1,6):\n",
    "        print(round((i/j), 2), end=' ')\n",
    "    print()"
   ]
  },
  {
   "cell_type": "code",
   "execution_count": 147,
   "metadata": {},
   "outputs": [
    {
     "name": "stdout",
     "output_type": "stream",
     "text": [
      "0 0 0 0 \n",
      "1 1 1 1 \n",
      "0 0 0 0 \n",
      "1 1 1 1 \n"
     ]
    }
   ],
   "source": [
    "n=int(input())\n",
    "for i in range (0, n):\n",
    "    for p in range (0, n):\n",
    "        if i%2==0:\n",
    "            print('0', end= ' ')\n",
    "        else:\n",
    "            print('1', end=' ')\n",
    "\n",
    "    print()"
   ]
  },
  {
   "cell_type": "code",
   "execution_count": 155,
   "metadata": {},
   "outputs": [
    {
     "name": "stdout",
     "output_type": "stream",
     "text": [
      "0 1 0 1 \n",
      "0 1 0 1 \n",
      "0 1 0 1 \n",
      "0 1 0 1 \n"
     ]
    }
   ],
   "source": [
    "n=int(input())\n",
    "for i in range (0, n):\n",
    "    for p in range (0, n):\n",
    "        if p%2==0:\n",
    "            print('0', end= ' ')\n",
    "        else:\n",
    "            print('1', end=' ')\n",
    "\n",
    "    print()"
   ]
  },
  {
   "cell_type": "code",
   "execution_count": 165,
   "metadata": {},
   "outputs": [
    {
     "name": "stdout",
     "output_type": "stream",
     "text": [
      "1 1 1 1 \n",
      "0 0 0 0 \n",
      "0 0 0 0 \n",
      "1 1 1 1 \n"
     ]
    }
   ],
   "source": [
    "n=int(input())\n",
    "for i in range (0, n):\n",
    "    for p in range (0, n):\n",
    "        if i==0 or i==n-1:\n",
    "            print('1', end= ' ')\n",
    "        else:\n",
    "            print('0', end=' ')\n",
    "    print()"
   ]
  },
  {
   "cell_type": "code",
   "execution_count": 168,
   "metadata": {},
   "outputs": [
    {
     "name": "stdout",
     "output_type": "stream",
     "text": [
      "1 1 1 1\n",
      "1 0 0 1\n",
      "1 0 0 1\n",
      "1 1 1 1\n"
     ]
    }
   ],
   "source": [
    "n=int(input())\n",
    "a=[['1']*n for i in range(n)]\n",
    "for i in range (1, n-1):\n",
    "    for j in range (1, n-1):\n",
    "        a[i][j]='0'\n",
    "for l in a:\n",
    "    print(*l)"
   ]
  },
  {
   "cell_type": "code",
   "execution_count": 170,
   "metadata": {},
   "outputs": [
    {
     "name": "stdout",
     "output_type": "stream",
     "text": [
      "0 0 0 0 \n",
      "1 1 1 1 \n",
      "2 2 2 2 \n",
      "3 3 3 3 \n"
     ]
    }
   ],
   "source": [
    "n=int(input())\n",
    "for i in range (0, n):\n",
    "    for p in range (0, n):\n",
    "            print(i, end= ' ')\n",
    "    print()"
   ]
  },
  {
   "cell_type": "code",
   "execution_count": 195,
   "metadata": {},
   "outputs": [
    {
     "name": "stdout",
     "output_type": "stream",
     "text": [
      "1 0 0 0 \n",
      "0 1 0 0 \n",
      "0 0 1 0 \n",
      "0 0 0 1 \n"
     ]
    }
   ],
   "source": [
    "n=int(input()) #по диагонали\n",
    "for i in range (0, n):\n",
    "    for p in range (0, n):\n",
    "        if i==p:\n",
    "            print('1', end= ' ')\n",
    "        else:\n",
    "            print('0', end=' ')\n",
    "    print()"
   ]
  },
  {
   "cell_type": "code",
   "execution_count": 208,
   "metadata": {},
   "outputs": [
    {
     "name": "stdout",
     "output_type": "stream",
     "text": [
      "0 0 1 0 0 \n",
      "0 0 1 0 0 \n",
      "1 1 1 1 1 \n",
      "0 0 1 0 0 \n",
      "0 0 1 0 0 \n"
     ]
    }
   ],
   "source": [
    "n=int(input()) #крестом\n",
    "for i in range (0, n):\n",
    "    for p in range (0, n-1):\n",
    "        if p==n-3:\n",
    "            print('1', end= ' ')\n",
    "        if i==n-3:\n",
    "            print('1', end=' ')\n",
    "        else:\n",
    "            print('0', end=' ')\n",
    "    print()"
   ]
  },
  {
   "cell_type": "code",
   "execution_count": 263,
   "metadata": {},
   "outputs": [
    {
     "name": "stdout",
     "output_type": "stream",
     "text": [
      "1 1 1 1 \n",
      "1 1 1 1 \n",
      "0 0 0 0 \n",
      "0 0 0 0 \n"
     ]
    }
   ],
   "source": [
    "n=int(input()) #первые 4\n",
    "for i in range (0, n):\n",
    "    for p in range (0, n):\n",
    "        if i//2==0:\n",
    "            print('1', end= ' ')\n",
    "        else:\n",
    "            print('0', end=' ')\n",
    "    print()"
   ]
  },
  {
   "cell_type": "code",
   "execution_count": 255,
   "metadata": {},
   "outputs": [
    {
     "name": "stdout",
     "output_type": "stream",
     "text": [
      "1 0 0 1 \n",
      "0 0 0 0 \n",
      "0 0 0 0 \n",
      "1 0 0 1 \n"
     ]
    }
   ],
   "source": [
    "n=int(input()) #по краям 1\n",
    "for i in range (0, n):\n",
    "    for p in range (0, n):\n",
    "        if i==0 and p==n-1 or i==0 and p==0 or i==n-1 and p==0 or i==n-1 and p==n-1:\n",
    "            print('1', end= ' ')\n",
    "        else:\n",
    "            print('0', end=' ')\n",
    "    print()"
   ]
  },
  {
   "cell_type": "code",
   "execution_count": 256,
   "metadata": {},
   "outputs": [
    {
     "name": "stdout",
     "output_type": "stream",
     "text": [
      "1 1 0 0 \n",
      "1 1 0 0 \n",
      "0 0 0 0 \n",
      "0 0 0 0 \n"
     ]
    }
   ],
   "source": [
    "n=int(input()) #первые 4\n",
    "for i in range (0, n):\n",
    "    for p in range (0, n):\n",
    "        if i//2==0 and p//2==0 :\n",
    "            print('1', end= ' ')\n",
    "        else:\n",
    "            print('0', end=' ')\n",
    "    print()"
   ]
  },
  {
   "cell_type": "code",
   "execution_count": 307,
   "metadata": {},
   "outputs": [
    {
     "name": "stdout",
     "output_type": "stream",
     "text": [
      "1 0 0 0 \n",
      "1 1 0 0 \n",
      "1 1 1 0 \n",
      "1 1 1 1 \n"
     ]
    }
   ],
   "source": [
    "n=int(input())\n",
    "for i in range (0, n):\n",
    "    for p in range (0, n):\n",
    "        if p<=i:\n",
    "            print('1', end= ' ')\n",
    "        else:\n",
    "            print('0', end=' ')\n",
    "    print()"
   ]
  },
  {
   "cell_type": "code",
   "execution_count": 309,
   "metadata": {},
   "outputs": [
    {
     "name": "stdout",
     "output_type": "stream",
     "text": [
      "1 0 0 0 0 0 \n",
      "1 1 0 0 0 0 \n",
      "1 1 1 0 0 0 \n",
      "0 0 0 0 0 0 \n",
      "0 0 0 0 0 0 \n",
      "0 0 0 0 0 0 \n"
     ]
    }
   ],
   "source": [
    "n=int(input())\n",
    "for i in range (0, n):\n",
    "    for p in range (0, n):\n",
    "        if p<=i and i<=(n-1)/2:\n",
    "            print('1', end= ' ')\n",
    "        else:\n",
    "            print('0', end=' ')\n",
    "    print()"
   ]
  }
 ],
 "metadata": {
  "language_info": {
   "name": "python"
  },
  "orig_nbformat": 4
 },
 "nbformat": 4,
 "nbformat_minor": 2
}
