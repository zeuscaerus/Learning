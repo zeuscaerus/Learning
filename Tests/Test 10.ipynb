{
 "cells": [
  {
   "cell_type": "code",
   "execution_count": 73,
   "metadata": {},
   "outputs": [
    {
     "name": "stdout",
     "output_type": "stream",
     "text": [
      "[0, 16, 20, 32, 42, 86]\n",
      "86\n"
     ]
    }
   ],
   "source": [
    "m = list(map(int, input().split())) # ввод данных\n",
    "a = [] # новый пустой список куда будем добавлять четные числа\n",
    "for i in m:\n",
    "    if i%2==0:  #если при делении на 2 нет остатка\n",
    "        a.append(i) #то добавляем их в новый список 'a'\n",
    "    a.sort()\n",
    "print(a[-1])\n",
    "\n"
   ]
  },
  {
   "cell_type": "code",
   "execution_count": 98,
   "metadata": {},
   "outputs": [
    {
     "name": "stdout",
     "output_type": "stream",
     "text": [
      "3\n"
     ]
    }
   ],
   "source": [
    "m = list(map(str, input().split()))\n",
    "a = []\n",
    "b = []\n",
    "for i in m:\n",
    "    if len(i)==3:\n",
    "        a.append(i)\n",
    "    a=list(map(int, a))\n",
    "for i in a:\n",
    "    if i%5>0:\n",
    "        b.append(i)\n",
    "print(len(b))"
   ]
  },
  {
   "cell_type": "code",
   "execution_count": 107,
   "metadata": {},
   "outputs": [
    {
     "name": "stdout",
     "output_type": "stream",
     "text": [
      "3\n"
     ]
    }
   ],
   "source": [
    "m = list(map(str, input().split())) #число трехзначных чисел в списке, которые деляться на 5\n",
    "new_m=[x for x in m if len(x)==3]\n",
    "new_m=list(map(int, new_m))\n",
    "super_new_m=[x for x in new_m if x%5>0]\n",
    "print(len(super_new_m))"
   ]
  },
  {
   "cell_type": "code",
   "execution_count": 108,
   "metadata": {},
   "outputs": [
    {
     "name": "stdout",
     "output_type": "stream",
     "text": [
      "2 1 4 3 5\n"
     ]
    }
   ],
   "source": [
    "a = list(map(str, input().split()))\n",
    "for i in range(1, len(a), 2):\n",
    "    a[i - 1], a[i] = a[i], a[i - 1]\n",
    "print(' '.join([str(i) for i in a]))"
   ]
  },
  {
   "cell_type": "code",
   "execution_count": 111,
   "metadata": {},
   "outputs": [
    {
     "name": "stdout",
     "output_type": "stream",
     "text": [
      "3\n"
     ]
    }
   ],
   "source": [
    "a = list(map(int, input().split()))\n",
    "print(max(a, key=a.count))"
   ]
  },
  {
   "cell_type": "code",
   "execution_count": 117,
   "metadata": {},
   "outputs": [
    {
     "name": "stdout",
     "output_type": "stream",
     "text": [
      "3 4 1 2 5\n"
     ]
    }
   ],
   "source": [
    "a = list(map(int, input().split()))\n",
    "index_of_min = 0\n",
    "index_of_max = 0\n",
    "for i in range(1, len(a)):\n",
    "    if a[i] > a[index_of_max]:\n",
    "        index_of_max = i\n",
    "    if a[i] < a[index_of_min]:\n",
    "        index_of_min = i\n",
    "a[index_of_min], a[index_of_max] = a[index_of_max], a[index_of_min]\n",
    "print(' '.join([str(i) for i in a]))\n"
   ]
  },
  {
   "cell_type": "code",
   "execution_count": 143,
   "metadata": {},
   "outputs": [
    {
     "name": "stdout",
     "output_type": "stream",
     "text": [
      "1 3 5 "
     ]
    }
   ],
   "source": [
    "a = list(map(int, input().split()))\n",
    "for i in range(0, len(a), 2):\n",
    "    print(a[i], end=' ')"
   ]
  }
 ],
 "metadata": {
  "kernelspec": {
   "display_name": "Python 3.10.7 64-bit",
   "language": "python",
   "name": "python3"
  },
  "language_info": {
   "codemirror_mode": {
    "name": "ipython",
    "version": 3
   },
   "file_extension": ".py",
   "mimetype": "text/x-python",
   "name": "python",
   "nbconvert_exporter": "python",
   "pygments_lexer": "ipython3",
   "version": "3.10.7"
  },
  "orig_nbformat": 4,
  "vscode": {
   "interpreter": {
    "hash": "8d7cb472eb4f6eb093ff767bf69b4e64fe5027d61ef41eac4770187a06a8b999"
   }
  }
 },
 "nbformat": 4,
 "nbformat_minor": 2
}
