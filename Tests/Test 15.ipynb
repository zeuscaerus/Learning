{
 "cells": [
  {
   "cell_type": "code",
   "execution_count": 35,
   "metadata": {},
   "outputs": [
    {
     "name": "stdout",
     "output_type": "stream",
     "text": [
      "2\n"
     ]
    }
   ],
   "source": [
    "a=set('.,;:!?')\n",
    "x=input()\n",
    "num=0\n",
    "for i in x:\n",
    "    if i in a:\n",
    "        num += 1\n",
    "print(num)"
   ]
  },
  {
   "cell_type": "code",
   "execution_count": 69,
   "metadata": {},
   "outputs": [
    {
     "name": "stdout",
     "output_type": "stream",
     "text": [
      "abc132z\n"
     ]
    }
   ],
   "source": [
    "a=input()\n",
    "b=''\n",
    "x=set()\n",
    "for i in a:\n",
    "    if i not in x:\n",
    "        x.add(i)\n",
    "        b+=(i)\n",
    "print(b)\n",
    "\n"
   ]
  },
  {
   "cell_type": "code",
   "execution_count": 7,
   "metadata": {},
   "outputs": [
    {
     "name": "stdout",
     "output_type": "stream",
     "text": [
      "2\n"
     ]
    }
   ],
   "source": [
    "a=input()\n",
    "x=set()\n",
    "b=set()\n",
    "for i in a:\n",
    "    if '0'<=i<='9' and i not in x:\n",
    "        x.add(i)\n",
    "    elif i in x:\n",
    "        b.add(i)\n",
    "if len(b)>0:\n",
    "    c=sorted(list(b))\n",
    "    print(*c, sep='')\n",
    "else:\n",
    "    print('NO')"
   ]
  },
  {
   "cell_type": "code",
   "execution_count": 9,
   "metadata": {},
   "outputs": [
    {
     "name": "stdout",
     "output_type": "stream",
     "text": [
      "5\n"
     ]
    }
   ],
   "source": [
    "a=input()\n",
    "x=set(a)\n",
    "print(len(x))"
   ]
  },
  {
   "cell_type": "code",
   "execution_count": 10,
   "metadata": {},
   "outputs": [
    {
     "name": "stdout",
     "output_type": "stream",
     "text": [
      "123\n"
     ]
    }
   ],
   "source": [
    "a=input()\n",
    "x=set()\n",
    "for i in a:\n",
    "    if '0'<=i<='9' and i not in x:\n",
    "        x.add(i)\n",
    "b=sorted(list(x))\n",
    "if len(b)>0:\n",
    "    print(*b, sep='')\n",
    "else:\n",
    "    print('NO')\n"
   ]
  },
  {
   "cell_type": "code",
   "execution_count": 13,
   "metadata": {},
   "outputs": [
    {
     "name": "stdout",
     "output_type": "stream",
     "text": [
      "YES\n"
     ]
    }
   ],
   "source": [
    "a=input()\n",
    "x=set()\n",
    "for i in a:\n",
    "    if '0'<=i<='9' and i not in x:\n",
    "        x.add(i)\n",
    "if len(x)==len(a):\n",
    "    print('YES')\n",
    "else:\n",
    "    print('NO')"
   ]
  }
 ],
 "metadata": {
  "kernelspec": {
   "display_name": "Python 3.10.7 64-bit (microsoft store)",
   "language": "python",
   "name": "python3"
  },
  "language_info": {
   "codemirror_mode": {
    "name": "ipython",
    "version": 3
   },
   "file_extension": ".py",
   "mimetype": "text/x-python",
   "name": "python",
   "nbconvert_exporter": "python",
   "pygments_lexer": "ipython3",
   "version": "3.10.7"
  },
  "orig_nbformat": 4,
  "vscode": {
   "interpreter": {
    "hash": "05a8b45cdbf6459e0dc587c73d132bc5afb3269bf0831f6ca18739b001bf9a43"
   }
  }
 },
 "nbformat": 4,
 "nbformat_minor": 2
}
