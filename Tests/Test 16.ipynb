{
 "cells": [
  {
   "cell_type": "code",
   "execution_count": 1,
   "metadata": {},
   "outputs": [],
   "source": [
    "import random\n",
    "def xx(a,b):\n",
    "    return random.randint(a,b)"
   ]
  },
  {
   "cell_type": "code",
   "execution_count": 2,
   "metadata": {},
   "outputs": [
    {
     "name": "stdout",
     "output_type": "stream",
     "text": [
      "Polar Coordinates:  (5.0, 0.9272952180016122)\n",
      "Polar to rectangular:  (-2+2.4492935982947064e-16j)\n"
     ]
    }
   ],
   "source": [
    "import cmath\n",
    "cn = complex(3,4)\n",
    "# получение значений полярных координат\n",
    "print(\"Polar Coordinates: \",cmath.polar(cn))\n",
    "cn1 = cmath.rect(2, cmath.pi)\n",
    "print(\"Polar to rectangular: \",cn1)"
   ]
  },
  {
   "cell_type": "code",
   "execution_count": 3,
   "metadata": {},
   "outputs": [
    {
     "name": "stdout",
     "output_type": "stream",
     "text": [
      "The area of the polygon is:  49.00000000000001\n"
     ]
    }
   ],
   "source": [
    "from math import tan, pi\n",
    "n_sides = int(input())\n",
    "s_length = float(input())\n",
    "p_area = n_sides * (s_length ** 2) / (4 * tan(pi / n_sides))\n",
    "print(\"The area of the polygon is: \",p_area)"
   ]
  },
  {
   "cell_type": "code",
   "execution_count": 4,
   "metadata": {},
   "outputs": [
    {
     "name": "stdout",
     "output_type": "stream",
     "text": [
      "21/5\n"
     ]
    }
   ],
   "source": [
    "from fractions import Fraction\n",
    "value = 4.2\n",
    "print(Fraction(value).limit_denominator())"
   ]
  },
  {
   "cell_type": "code",
   "execution_count": 5,
   "metadata": {},
   "outputs": [
    {
     "name": "stdout",
     "output_type": "stream",
     "text": [
      "Square root of  1.44  is : 1.2\n",
      "exponential of  1.44  is : 4.220695816996552825673328929\n"
     ]
    }
   ],
   "source": [
    "from decimal import *\n",
    "x = Decimal('1.44')\n",
    "print(\"Square root of \",x, \" is :\", x.sqrt())\n",
    "print(\"exponential of \",x, \" is :\", x.exp())"
   ]
  },
  {
   "cell_type": "code",
   "execution_count": 7,
   "metadata": {},
   "outputs": [
    {
     "name": "stdout",
     "output_type": "stream",
     "text": [
      "3.141592653589793\n"
     ]
    }
   ],
   "source": [
    "from math import pi\n",
    "print(pi)"
   ]
  },
  {
   "cell_type": "code",
   "execution_count": 9,
   "metadata": {},
   "outputs": [
    {
     "name": "stdout",
     "output_type": "stream",
     "text": [
      "2/3 + 3/7 = 23/21\n",
      "2/3 - 3/7 = 5/21\n",
      "2/3 * 3/7 = 2/7\n",
      "2/3 / 3/7 = 14/9\n"
     ]
    }
   ],
   "source": [
    "import fractions\n",
    "f1 = fractions.Fraction(2, 3)\n",
    "f2 = fractions.Fraction(3, 7)\n",
    "print('{} + {} = {}'.format(f1, f2, f1 + f2))\n",
    "print('{} - {} = {}'.format(f1, f2, f1 - f2))\n",
    "print('{} * {} = {}'.format(f1, f2, f1 * f2))\n",
    "print('{} / {} = {}'.format(f1, f2, f1 / f2))"
   ]
  },
  {
   "cell_type": "code",
   "execution_count": 10,
   "metadata": {},
   "outputs": [],
   "source": [
    "import random\n",
    "def xx():\n",
    "    return print(random.random())"
   ]
  }
 ],
 "metadata": {
  "kernelspec": {
   "display_name": "Python 3.10.7 64-bit (microsoft store)",
   "language": "python",
   "name": "python3"
  },
  "language_info": {
   "codemirror_mode": {
    "name": "ipython",
    "version": 3
   },
   "file_extension": ".py",
   "mimetype": "text/x-python",
   "name": "python",
   "nbconvert_exporter": "python",
   "pygments_lexer": "ipython3",
   "version": "3.10.7"
  },
  "orig_nbformat": 4,
  "vscode": {
   "interpreter": {
    "hash": "05a8b45cdbf6459e0dc587c73d132bc5afb3269bf0831f6ca18739b001bf9a43"
   }
  }
 },
 "nbformat": 4,
 "nbformat_minor": 2
}
