{
 "cells": [
  {
   "cell_type": "code",
   "execution_count": 5,
   "metadata": {},
   "outputs": [
    {
     "name": "stdout",
     "output_type": "stream",
     "text": [
      "2\n"
     ]
    }
   ],
   "source": [
    "import re\n",
    "x=input()\n",
    "match_1=re.findall('test', x)\n",
    "res=len(match_1)\n",
    "print(res)"
   ]
  },
  {
   "cell_type": "code",
   "execution_count": 26,
   "metadata": {},
   "outputs": [
    {
     "ename": "SyntaxError",
     "evalue": "invalid syntax. Maybe you meant '==' or ':=' instead of '='? (3253457711.py, line 16)",
     "output_type": "error",
     "traceback": [
      "\u001b[1;36m  Cell \u001b[1;32mIn [26], line 16\u001b[1;36m\u001b[0m\n\u001b[1;33m    if x=string:\u001b[0m\n\u001b[1;37m       ^\u001b[0m\n\u001b[1;31mSyntaxError\u001b[0m\u001b[1;31m:\u001b[0m invalid syntax. Maybe you meant '==' or ':=' instead of '='?\n"
     ]
    }
   ],
   "source": [
    "import re\n",
    "string = input()\n",
    "string2 = 'test'\n",
    "pattern1 = 'test$'\n",
    "pattern2 = '^test'\n",
    "pattern3 = '^test$'\n",
    "print(re.search(pattern1, string) is None)      \n",
    "print(re.match(pattern2, string) is None)\n",
    "print(re.match(pattern3, string) is None)\n",
    "print(re.match(pattern3, string2) is None)"
   ]
  }
 ],
 "metadata": {
  "kernelspec": {
   "display_name": "Python 3.10.7 64-bit (microsoft store)",
   "language": "python",
   "name": "python3"
  },
  "language_info": {
   "codemirror_mode": {
    "name": "ipython",
    "version": 3
   },
   "file_extension": ".py",
   "mimetype": "text/x-python",
   "name": "python",
   "nbconvert_exporter": "python",
   "pygments_lexer": "ipython3",
   "version": "3.10.7"
  },
  "orig_nbformat": 4,
  "vscode": {
   "interpreter": {
    "hash": "05a8b45cdbf6459e0dc587c73d132bc5afb3269bf0831f6ca18739b001bf9a43"
   }
  }
 },
 "nbformat": 4,
 "nbformat_minor": 2
}
