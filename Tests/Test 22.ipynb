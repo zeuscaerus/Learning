{
 "cells": [
  {
   "cell_type": "code",
   "execution_count": 3,
   "metadata": {},
   "outputs": [
    {
     "name": "stdout",
     "output_type": "stream",
     "text": [
      "Not matched!\n"
     ]
    }
   ],
   "source": [
    "import re\n",
    "a=str(input())\n",
    "result_1=re.findall('z', a)\n",
    "if result_1:\n",
    "    print('Found a match!')\n",
    "else:\n",
    "    print('Not matched!')"
   ]
  },
  {
   "cell_type": "code",
   "execution_count": 10,
   "metadata": {},
   "outputs": [
    {
     "name": "stdout",
     "output_type": "stream",
     "text": [
      "Found a match!\n"
     ]
    }
   ],
   "source": [
    "import re #задача с 2-3b\n",
    "b_1=str(input())\n",
    "result_2=re.findall('b{2,3}', b_1)\n",
    "if result_2:\n",
    "    print('Found a match!')\n",
    "else:\n",
    "    print('Not matched!')"
   ]
  },
  {
   "cell_type": "code",
   "execution_count": 26,
   "metadata": {},
   "outputs": [
    {
     "name": "stdout",
     "output_type": "stream",
     "text": [
      "Found \"fox\" in\"The quick brown fox jumps over the lazy dog.\" from 16 to 19\n"
     ]
    }
   ],
   "source": [
    "import re\n",
    "pattern=input()\n",
    "string=input()\n",
    "result_3=re.search(pattern,string)\n",
    "start=result_3.start()\n",
    "end=result_3.end()\n",
    "print(f'Found \"{pattern}\" in \"{string}\" from {start} to {end}')"
   ]
  },
  {
   "cell_type": "code",
   "execution_count": 29,
   "metadata": {},
   "outputs": [
    {
     "name": "stdout",
     "output_type": "stream",
     "text": [
      "Not matched!\n"
     ]
    }
   ],
   "source": [
    "import re #задача с 3 b\n",
    "b_2=str(input())\n",
    "result_4=re.findall('b{3}', b_2)\n",
    "if result_4:\n",
    "    print('Found a match!')\n",
    "else:\n",
    "    print('Not matched!')"
   ]
  },
  {
   "cell_type": "code",
   "execution_count": 128,
   "metadata": {},
   "outputs": [
    {
     "name": "stdout",
     "output_type": "stream",
     "text": [
      "Not matched!\n"
     ]
    }
   ],
   "source": [
    "import re #задача с _ между строчными буквами\n",
    "b_3=str(input())\n",
    "result_5=re.findall('[a-c]_[b-c]', b_3,)\n",
    "if result_5:\n",
    "    print('Found a match!')\n",
    "else:\n",
    "    print('Not matched!')"
   ]
  },
  {
   "cell_type": "code",
   "execution_count": 76,
   "metadata": {},
   "outputs": [
    {
     "name": "stdout",
     "output_type": "stream",
     "text": [
      "True\n"
     ]
    }
   ],
   "source": [
    "import re\n",
    "b_4=input()\n",
    "result_6=re.findall('[*&%@#!}{]', b_4)\n",
    "if result_6:\n",
    "    print('False')\n",
    "else:\n",
    "    print('True')"
   ]
  },
  {
   "cell_type": "code",
   "execution_count": null,
   "metadata": {},
   "outputs": [],
   "source": []
  },
  {
   "cell_type": "code",
   "execution_count": 77,
   "metadata": {},
   "outputs": [
    {
     "name": "stdout",
     "output_type": "stream",
     "text": [
      "Not matched!\n"
     ]
    }
   ],
   "source": [
    "import re #задача с 1 b\n",
    "b_5=str(input())\n",
    "result_7=re.findall('b{1}', b_5)\n",
    "if result_7:\n",
    "    print('Found a match!')\n",
    "else:\n",
    "    print('Not matched!')"
   ]
  },
  {
   "cell_type": "code",
   "execution_count": 79,
   "metadata": {},
   "outputs": [
    {
     "name": "stdout",
     "output_type": "stream",
     "text": [
      "False\n"
     ]
    }
   ],
   "source": [
    "import re #задача с началом строки на 5\n",
    "b_6=str(input())\n",
    "result_8=re.findall('^5', b_6)\n",
    "if result_8:\n",
    "    print('True')\n",
    "else:\n",
    "    print('False')"
   ]
  },
  {
   "cell_type": "code",
   "execution_count": 108,
   "metadata": {},
   "outputs": [
    {
     "name": "stdout",
     "output_type": "stream",
     "text": [
      "Number of length 1 to 3\n",
      "1\n",
      "12\n",
      "13\n",
      "345\n"
     ]
    }
   ],
   "source": [
    "import re #задача с отбором всех трехзначных чисел\n",
    "b_7=input()\n",
    "result_9=re.findall('[0-9]{1,3}', b_7)\n",
    "print('Number of length 1 to 3')\n",
    "print(*result_9, sep='\\n')"
   ]
  },
  {
   "cell_type": "code",
   "execution_count": null,
   "metadata": {},
   "outputs": [],
   "source": []
  },
  {
   "cell_type": "code",
   "execution_count": 127,
   "metadata": {},
   "outputs": [
    {
     "name": "stdout",
     "output_type": "stream",
     "text": [
      "Not matched!\n"
     ]
    }
   ],
   "source": [
    "import re #задача с А_а\n",
    "b_8=str(input())\n",
    "result_10=re.findall('[A-Z]+[a-z]', b_8,)\n",
    "if result_10:\n",
    "    print('Found a match!')\n",
    "else:\n",
    "    print('Not matched!')"
   ]
  }
 ],
 "metadata": {
  "kernelspec": {
   "display_name": "Python 3.10.7 64-bit (microsoft store)",
   "language": "python",
   "name": "python3"
  },
  "language_info": {
   "codemirror_mode": {
    "name": "ipython",
    "version": 3
   },
   "file_extension": ".py",
   "mimetype": "text/x-python",
   "name": "python",
   "nbconvert_exporter": "python",
   "pygments_lexer": "ipython3",
   "version": "3.10.7"
  },
  "orig_nbformat": 4,
  "vscode": {
   "interpreter": {
    "hash": "05a8b45cdbf6459e0dc587c73d132bc5afb3269bf0831f6ca18739b001bf9a43"
   }
  }
 },
 "nbformat": 4,
 "nbformat_minor": 2
}
