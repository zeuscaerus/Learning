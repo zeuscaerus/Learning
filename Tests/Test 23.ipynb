{
 "cells": [
  {
   "cell_type": "code",
   "execution_count": 2,
   "metadata": {},
   "outputs": [
    {
     "name": "stdout",
     "output_type": "stream",
     "text": [
      "re.compile('hello', re.VERBOSE)\n"
     ]
    }
   ],
   "source": [
    "import re\n",
    "print(re.compile('hello', re.X))"
   ]
  },
  {
   "cell_type": "code",
   "execution_count": 3,
   "metadata": {},
   "outputs": [
    {
     "name": "stdout",
     "output_type": "stream",
     "text": [
      "<re.Match object; span=(4, 7), match='aaa'>***<re.Match object; span=(4, 8), match='aaaa'>***None***None\n"
     ]
    }
   ],
   "source": [
    "a_1=re.search('aaa', \"alohaaa\", 0)\n",
    "a_2=re.search('aaaa', \"alohaaaa\", 0)\n",
    "a_3=re.match('aaaa', \"alohaaaa\", 0)\n",
    "a_4=re.match('aaa', \"alohaaa\", 0)\n",
    "print(a_1, a_2, a_3, a_4, sep='***')"
   ]
  },
  {
   "cell_type": "code",
   "execution_count": 4,
   "metadata": {},
   "outputs": [
    {
     "name": "stdout",
     "output_type": "stream",
     "text": [
      "['0', '3B6']\n"
     ]
    }
   ],
   "source": [
    "import re\n",
    "c=re.split('[a-c]', '0a3B6', re.I)\n",
    "print(c)"
   ]
  },
  {
   "cell_type": "code",
   "execution_count": 5,
   "metadata": {},
   "outputs": [
    {
     "name": "stdout",
     "output_type": "stream",
     "text": [
      "None\n"
     ]
    }
   ],
   "source": [
    "import re \n",
    "a=re.fullmatch('hello', 'hello world')\n",
    "print(a)"
   ]
  },
  {
   "cell_type": "code",
   "execution_count": 6,
   "metadata": {},
   "outputs": [
    {
     "ename": "NameError",
     "evalue": "name 'p_2' is not defined",
     "output_type": "error",
     "traceback": [
      "\u001b[1;31m---------------------------------------------------------------------------\u001b[0m",
      "\u001b[1;31mNameError\u001b[0m                                 Traceback (most recent call last)",
      "Cell \u001b[1;32mIn [6], line 3\u001b[0m\n\u001b[0;32m      1\u001b[0m \u001b[38;5;28;01mimport\u001b[39;00m \u001b[38;5;21;01mre\u001b[39;00m\n\u001b[0;32m      2\u001b[0m p_1\u001b[38;5;241m=\u001b[39mre\u001b[38;5;241m.\u001b[39mpurge ()\n\u001b[1;32m----> 3\u001b[0m \u001b[43mp_2\u001b[49m\u001b[38;5;241m.\u001b[39msearch (\u001b[38;5;124m\"\u001b[39m\u001b[38;5;124mдверь\u001b[39m\u001b[38;5;124m\"\u001b[39m)\n\u001b[0;32m      4\u001b[0m p_3\u001b[38;5;241m=\u001b[39mre\u001b[38;5;241m.\u001b[39msubn ()\n\u001b[0;32m      5\u001b[0m p_4\u001b[38;5;241m=\u001b[39mre\u001b[38;5;241m.\u001b[39mescape (\u001b[38;5;124m'\u001b[39m\u001b[38;5;124mhello\u001b[39m\u001b[38;5;124m'\u001b[39m) \u001b[38;5;66;03m#this is error!!!!\u001b[39;00m\n",
      "\u001b[1;31mNameError\u001b[0m: name 'p_2' is not defined"
     ]
    }
   ],
   "source": [
    "import re\n",
    "p_1=re.purge ()\n",
    "p_2.search (\"дверь\")\n",
    "p_3=re.subn ()\n",
    "p_4=re.escape ('hello') #this is error!!!!\n",
    "p_5=re.compile (\"d\")\n",
    "print(p_1, p_2, p_3, p_4, p_5)"
   ]
  },
  {
   "cell_type": "code",
   "execution_count": 7,
   "metadata": {},
   "outputs": [
    {
     "name": "stdout",
     "output_type": "stream",
     "text": [
      "['Привет', 'привет', 'привет', '']\n"
     ]
    }
   ],
   "source": [
    "import re\n",
    "print(re.split ('\\W+','Привет, привет, привет.' ))"
   ]
  },
  {
   "cell_type": "code",
   "execution_count": 8,
   "metadata": {},
   "outputs": [
    {
     "name": "stdout",
     "output_type": "stream",
     "text": [
      "[]\n"
     ]
    }
   ],
   "source": [
    "import re\n",
    "b=re.findall( \"привет, мир\" , \"привет\" , 1)\n",
    "print (b)"
   ]
  },
  {
   "cell_type": "code",
   "execution_count": null,
   "metadata": {},
   "outputs": [],
   "source": [
    "# Какие из следующих функций приводят к совпадению без учета регистра?   're.I'"
   ]
  },
  {
   "cell_type": "code",
   "execution_count": 9,
   "metadata": {},
   "outputs": [
    {
     "name": "stdout",
     "output_type": "stream",
     "text": [
      "good evening\n"
     ]
    }
   ],
   "source": [
    "print(re.sub('morning', 'evening', 'good morning'))"
   ]
  },
  {
   "cell_type": "code",
   "execution_count": null,
   "metadata": {},
   "outputs": [],
   "source": [
    "#Выражение a {5} будет соответствовать _____________ символам с предыдущим регулярным выражением '=5'"
   ]
  },
  {
   "cell_type": "code",
   "execution_count": 10,
   "metadata": {},
   "outputs": [
    {
     "name": "stdout",
     "output_type": "stream",
     "text": [
      "['', 'bai*']\n"
     ]
    }
   ],
   "source": [
    "print(re.split('mum', 'mumbai*', 1))"
   ]
  },
  {
   "cell_type": "code",
   "execution_count": null,
   "metadata": {},
   "outputs": [],
   "source": [
    "# Символ точки ('.') В режиме по умолчанию соответствует любому символу, кроме 'new line'"
   ]
  },
  {
   "cell_type": "code",
   "execution_count": null,
   "metadata": {},
   "outputs": [],
   "source": [
    "print(re.escape('new**world'))"
   ]
  },
  {
   "cell_type": "code",
   "execution_count": null,
   "metadata": {},
   "outputs": [],
   "source": []
  }
 ],
 "metadata": {
  "kernelspec": {
   "display_name": "Python 3.10.7 64-bit (microsoft store)",
   "language": "python",
   "name": "python3"
  },
  "language_info": {
   "codemirror_mode": {
    "name": "ipython",
    "version": 3
   },
   "file_extension": ".py",
   "mimetype": "text/x-python",
   "name": "python",
   "nbconvert_exporter": "python",
   "pygments_lexer": "ipython3",
   "version": "3.10.7"
  },
  "orig_nbformat": 4,
  "vscode": {
   "interpreter": {
    "hash": "05a8b45cdbf6459e0dc587c73d132bc5afb3269bf0831f6ca18739b001bf9a43"
   }
  }
 },
 "nbformat": 4,
 "nbformat_minor": 2
}
