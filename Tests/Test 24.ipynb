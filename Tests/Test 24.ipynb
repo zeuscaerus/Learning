{
 "cells": [
  {
   "cell_type": "code",
   "execution_count": 2,
   "metadata": {},
   "outputs": [
    {
     "name": "stdout",
     "output_type": "stream",
     "text": [
      "120\n"
     ]
    }
   ],
   "source": [
    "class Rectangle():\n",
    "    def __init__(self, l, w):\n",
    "         self.length = l\n",
    "         self.width = w\n",
    "\n",
    "    def rectangle_area(self):\n",
    "        return self.length*self.width\n",
    "\n",
    "a=int(input()) # введите а\n",
    "b=int(input())\n",
    "  # Тут должен быть ваш код, вам нужно ввести b\n",
    "newRectangle = Rectangle(a, b)\n",
    "print(newRectangle.rectangle_area())"
   ]
  },
  {
   "cell_type": "code",
   "execution_count": 7,
   "metadata": {},
   "outputs": [
    {
     "name": "stdout",
     "output_type": "stream",
     "text": [
      "THE QUICK BROWN FOX JUMPS OVER THE LAZY DOG.\n"
     ]
    }
   ],
   "source": [
    "class sentence():\n",
    "\n",
    "    def __init__ (self):\n",
    "        self.sent =''\n",
    "\n",
    "    def get_sent (self):\n",
    "        self.sent =input()\n",
    "\n",
    "    def print_sent (self):\n",
    "        print(self.sent.upper())\n",
    "\n",
    "str1=sentence()\n",
    "str1.get_sent()\n",
    "str1.print_sent()"
   ]
  },
  {
   "cell_type": "code",
   "execution_count": 10,
   "metadata": {},
   "outputs": [
    {
     "name": "stdout",
     "output_type": "stream",
     "text": [
      "0\n",
      "35\n",
      "Rust bucket goes 'beep beep'\n"
     ]
    }
   ],
   "source": [
    "class Car():\n",
    "    def __init__ (self, model, year, speed=0):\n",
    "        self.model = model\n",
    "        self.year = year\n",
    "        self.speed = speed\n",
    "    def accelerate(self):\n",
    "        self.speed+=5\n",
    "    def brake(self):\n",
    "        self.speed = max(0, self.speed - 5)\n",
    "    def honk_horn (self):\n",
    "        print(f\"{self.model} goes 'beep beep'\")\n",
    "\n",
    "\n",
    "#TEST\n",
    "\n",
    "#my_car = Сar(\"Toyota\", 1975)\n",
    "#print(my_car.speed)\n",
    "        \n",
    "#my_car = Сar(\"Zastava\", 2001, 30)\n",
    "#my_car.accelerate()\n",
    "#my_car.accelerate()\n",
    "#my_car.brake()\n",
    "#print(my_car.speed)\n",
    "\n",
    "#my_car = Сar(\"Rust bucket\", 1987)\n",
    "#my_car.honk_horn()"
   ]
  },
  {
   "cell_type": "code",
   "execution_count": 14,
   "metadata": {},
   "outputs": [
    {
     "name": "stdout",
     "output_type": "stream",
     "text": [
      "машина модель lada повернула на влево\n",
      "машина модель bmw остановилась\n",
      "машина модель gazelle поехала\n"
     ]
    }
   ],
   "source": [
    "class car():\n",
    "    def __init__ (self, speed, color, name, is_police):\n",
    "        self.speed=int(speed)\n",
    "        self.color=color\n",
    "        self.name=name\n",
    "        self.is_police=bool(is_police)\n",
    "    def go (self):\n",
    "        print(f'машина модель {self.name} поехала')\n",
    "    def stop (self):\n",
    "        print(f'машина модель {self.name} остановилась')\n",
    "    def turn (self, way):\n",
    "        print(f'машина модель {self.name} повернула {way}')\n",
    "\n",
    "class TownCar(car):\n",
    "    pass\n",
    "class SportCar(car):\n",
    "    pass\n",
    "class WorkCar(car):\n",
    "    pass\n",
    "class PoliceCar(car):\n",
    "    pass\n",
    "\n",
    "\n",
    "#TEST\n",
    "#a1 = TownCar(80, 'green', 'lada', False)\n",
    "#a1.turn('влево')\n",
    "\n",
    "#a2 = SportCar(80, 'black', 'bmw', False)\n",
    "#a2.stop()\n",
    "\n",
    "#a3 = WorkCar(80, 'brown', 'gazelle', False)\n",
    "#a3.go()\n",
    "\n"
   ]
  },
  {
   "cell_type": "code",
   "execution_count": 22,
   "metadata": {},
   "outputs": [
    {
     "name": "stdout",
     "output_type": "stream",
     "text": [
      "250000\n"
     ]
    }
   ],
   "source": [
    "class road():\n",
    "    def __init__ (self, length, width):\n",
    "        self.length=length\n",
    "        self.width=width\n",
    "    def mass(self):\n",
    "        return self.length*self.width\n",
    "\n",
    "class MassCount(road):\n",
    "    def __init__(self, length, width, volume):\n",
    "        super().__init__(length, width)\n",
    "        self.volume = volume\n",
    "\n",
    "#TEST\n",
    "#r=MassCount(25, 10000,125)\n",
    "#print(r.mass())"
   ]
  },
  {
   "cell_type": "code",
   "execution_count": 2,
   "metadata": {},
   "outputs": [
    {
     "name": "stdout",
     "output_type": "stream",
     "text": [
      "Peter The Great\n",
      "Beekeeper\n",
      "125000\n"
     ]
    }
   ],
   "source": [
    "class Worker():\n",
    "    def __init__(self, name, surname, position, wage, bonus):\n",
    "        self.name=name\n",
    "        self.surname=surname\n",
    "        self.position=position\n",
    "        self.income={'wage':wage, 'bonus':bonus}\n",
    "\n",
    "class Position(Worker):\n",
    "    def __init__ (self, name, surname, position, wage, bonus):\n",
    "        super().__init__(name, surname, position, wage, bonus)\n",
    "\n",
    "    def get_full_name (self):\n",
    "        return self.name + ' ' + self.surname\n",
    "\n",
    "    def get_total_income (self):\n",
    "        return self.income.get('wage')+self.income.get('bonus')\n",
    "\n",
    "\n",
    "#TEST\n",
    "#a = Position('Peter', 'The Great', 'Beekeeper', 100000, 25000)\n",
    "#print(a.get_full_name())\n",
    "#print(a.position)\n",
    "#print(a.get_total_income())"
   ]
  },
  {
   "cell_type": "code",
   "execution_count": 13,
   "metadata": {},
   "outputs": [
    {
     "name": "stdout",
     "output_type": "stream",
     "text": [
      "Вы взяли Ручка Запуск отрисовки ручкой\n",
      "Вы взяли Карандаш. Запуск отрисовки карандашом\n",
      "Вы взяли Маркер. Запуск отрисовки маркером\n"
     ]
    }
   ],
   "source": [
    "class Stationery():\n",
    "    def __init__ (self, title):\n",
    "        self.title=title\n",
    "    def draw(self):\n",
    "        return f'Запуск отрисовки {self.title}'\n",
    "\n",
    "class Pen(Stationery):\n",
    "    def __init__ (self, title):\n",
    "        super().__init__(title)\n",
    "    def draw(self):    \n",
    "        return f'Вы взяли {str(self.title)} Запуск отрисовки ручкой'\n",
    "\n",
    "class Pencil(Stationery):\n",
    "    def __init__ (self, title):\n",
    "        super().__init__(title)\n",
    "    def draw(self):\n",
    "        return f'Вы взяли {str(self.title)}. Запуск отрисовки карандашом'\n",
    "\n",
    "class Handle(Stationery):\n",
    "    def __init__ (self, title):\n",
    "        super().__init__(title)\n",
    "    def draw(self):\n",
    "        return f'Вы взяли {str(self.title)}. Запуск отрисовки маркером'\n",
    "\n",
    "\n",
    "#TEST\n",
    "#pen = Pen('Ручка')\n",
    "#pencil = Pencil('Карандаш')\n",
    "#handle = Handle('Маркер')\n",
    "#print(pen.draw())\n",
    "#print(pencil.draw())\n",
    "#print(handle.draw())\n"
   ]
  },
  {
   "cell_type": "code",
   "execution_count": null,
   "metadata": {},
   "outputs": [],
   "source": [
    "class Matrix:\n",
    "    def __init__(self, list_1, list_2):\n",
    "        self.list_1 = list_1\n",
    "        self.list_2 = list_2\n",
    "\n",
    "    def __add__(self):\n",
    "        matr = [[0, 0, 0],\n",
    "                [0, 0, 0],\n",
    "                [0, 0, 0]]\n",
    "\n",
    "        for i in range(len(self.list_1)):\n",
    "\n",
    "            for j in range(len(self.list_2[i])):\n",
    "                matr[i][j] = self.list_1[i][j] + self.list_2[i][j]\n",
    "\n",
    "        return str('\\n'.join(['\\t'.join([str(j) for j in i]) for i in matr]))\n",
    "        ## The new line character is \\n. It is used inside a string.\n",
    "\n",
    "\n",
    "    def __str__(self):\n",
    "        return str('\\n'.join(['\\t'.join([str(j) for j in i]) for i in matr]))"
   ]
  },
  {
   "cell_type": "code",
   "execution_count": null,
   "metadata": {},
   "outputs": [],
   "source": [
    "class Textil:\n",
    "    def __init__(self, width, height):\n",
    "        self.width = width\n",
    "        self.height = height\n",
    "\n",
    "    def get_square_c(self):\n",
    "        return self.width / 6.5 + 0.5\n",
    "\n",
    "    def get_square_j(self):\n",
    "        return self.height * 2 + 0.3\n",
    "\n",
    "    @property\n",
    "    def get_sq_full(self):\n",
    "        return 'Площадь общая ткани '+str((self.width / 6.5 + 0.5) + (self.height * 2 + 0.3))\n",
    "\n",
    "\n",
    "class Coat(Textil):\n",
    "    def __init__(self, width, height):\n",
    "        super().__init__(width, height)\n",
    "        self.square_c = round(self.width / 6.5 + 0.5)\n",
    "\n",
    "    def __str__(self):\n",
    "        return 'Площадь на пальто '+str(self.square_c)\n",
    "\n",
    "\n",
    "class Jacket(Textil):\n",
    "    def __init__(self, width, height):\n",
    "        super().__init__(width, height)\n",
    "        self.square_j = round(self.height * 2 + 0.3)\n",
    "\n",
    "    def __str__(self):\n",
    "        return 'Площадь на костюм '+str(self.square_j)"
   ]
  },
  {
   "cell_type": "code",
   "execution_count": 3,
   "metadata": {},
   "outputs": [
    {
     "name": "stdout",
     "output_type": "stream",
     "text": [
      "Текущая дата(11, 1, 2001)\n",
      "Неправильный год\n",
      "Неправильный месяц\n",
      "(11, 11, 2011)\n",
      "(11, 11, 2020)\n",
      "All right\n"
     ]
    }
   ],
   "source": [
    "class Data():\n",
    "    def __init__ (self, day_month_year):\n",
    "        self.day_month_year=str(day_month_year)\n",
    "\n",
    "\n",
    "    @classmethod\n",
    "    def extract(cls, day_month_year):\n",
    "        my_date = []\n",
    "\n",
    "        for i in day_month_year.split():\n",
    "            if i != '-': my_date.append(i)\n",
    "\n",
    "        return int(my_date[0]), int(my_date[1]), int(my_date[2])\n",
    "\n",
    "    @staticmethod\n",
    "    def valid(day, month, year):\n",
    "\n",
    "        if 1 <= day <= 31:\n",
    "            if 1 <= month <= 12:\n",
    "                if 2019 >= year >= 0:\n",
    "                    return 'All right'\n",
    "                else:\n",
    "                    return 'Неправильный год'\n",
    "            else:\n",
    "                return 'Неправильный месяц'\n",
    "        else:\n",
    "            return 'Неправильный день'\n",
    "\n",
    "    def __str__(self):\n",
    "        return 'Текущая дата'+ str(Data.extract(self.day_month_year))\n",
    "\n",
    "    \n",
    "# TEST \n",
    "#today = Data('11 - 1 - 2001')\n",
    "#print(today)\n",
    "#print(Data.valid(11, 11, 2022))\n",
    "#print(today.valid(11, 13, 2011))\n",
    "#print(Data.extract('11 - 11 - 2011'))\n",
    "#print(today.extract('11 - 11 - 2020'))\n",
    "#print(Data.valid(1, 11, 2000))\n",
    "    \n"
   ]
  }
 ],
 "metadata": {
  "kernelspec": {
   "display_name": "Python 3.10.7 64-bit (microsoft store)",
   "language": "python",
   "name": "python3"
  },
  "language_info": {
   "codemirror_mode": {
    "name": "ipython",
    "version": 3
   },
   "file_extension": ".py",
   "mimetype": "text/x-python",
   "name": "python",
   "nbconvert_exporter": "python",
   "pygments_lexer": "ipython3",
   "version": "3.10.7"
  },
  "orig_nbformat": 4,
  "vscode": {
   "interpreter": {
    "hash": "05a8b45cdbf6459e0dc587c73d132bc5afb3269bf0831f6ca18739b001bf9a43"
   }
  }
 },
 "nbformat": 4,
 "nbformat_minor": 2
}
