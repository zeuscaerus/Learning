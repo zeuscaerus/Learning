{
 "cells": [
  {
   "cell_type": "markdown",
   "metadata": {},
   "source": [
    "ЗАДАНИЕ № 1\n",
    "\n",
    "а) Импортируйте библиотеку Numpy и дайте ей псевдоним np. \n",
    "а_1) Создать одномерный массив Numpy под названием a из 12 последовательных целых чисел чисел от 12 до 24 невключительно. \n",
    "а_х_1) Создать 5 двумерных массивов разной формы из массива a. Не использовать в аргументах метода reshape число -1. \n",
    "а_х_2) Создать 5 двумерных массивов разной формы из массива a. Использовать в аргументах метода reshape число -1 (в трех примерах - для обозначения числа столбцов, в двух - для строк). \n",
    "а_1_3) Можно ли массив Numpy, состоящий из одного столбца и 12 строк, назвать одномерным?"
   ]
  },
  {
   "cell_type": "code",
   "execution_count": 1,
   "metadata": {},
   "outputs": [
    {
     "data": {
      "text/plain": [
       "2"
      ]
     },
     "execution_count": 1,
     "metadata": {},
     "output_type": "execute_result"
    }
   ],
   "source": [
    "import numpy as np\n",
    "a_1=np.arange(12,24)\n",
    "\n",
    "a_1_1=a_1.reshape(2,6)\n",
    "a_2_1=a_1.reshape(3,4)\n",
    "a_3_1=a_1.reshape(4,3)\n",
    "a_4_1=a_1.reshape(1,12)\n",
    "a_5_1=a_1.reshape(12,1)\n",
    "\n",
    "a_1_2=a_1.reshape(-1,3)\n",
    "a_2_2=a_1.reshape(-1,6)\n",
    "a_3_2=a_1.reshape(-1,2)\n",
    "a_4_2=a_1.reshape(4,-1)\n",
    "a_5_2=a_1.reshape(3,-1)\n",
    "\n",
    "a_1_3=a_1.reshape(12,-1) \n",
    "\n",
    "a_1_3.ndim #массив Numpy, состоящий из одного столбца и 12 строк, одномерным назвать нельзя\n"
   ]
  },
  {
   "cell_type": "markdown",
   "metadata": {},
   "source": [
    "ЗАДАНИЕ № 2\n",
    "\n",
    "Создать массив из 3 строк и 4 столбцов, состоящий из случайных чисел с плавающей запятой из нормального распределения со средним, равным 0 и среднеквадратичным отклонением, равным 1.0. Получить из этого массива одномерный массив с таким же атрибутом size, как и исходный массив."
   ]
  },
  {
   "cell_type": "code",
   "execution_count": 44,
   "metadata": {},
   "outputs": [
    {
     "data": {
      "text/plain": [
       "True"
      ]
     },
     "execution_count": 44,
     "metadata": {},
     "output_type": "execute_result"
    }
   ],
   "source": [
    "a_2_1=np.random.randn(3,4)\n",
    "a_2_2=a_2_1.flatten()\n",
    "a_2_1.size==a_2_2.size\n"
   ]
  },
  {
   "cell_type": "markdown",
   "metadata": {},
   "source": [
    "ЗАДАНИЕ № 3\n",
    "\n",
    "a_3_1) Создать массив a, состоящий из целых чисел, убывающих от 20 до 0 невключительно с интервалом 2. \n",
    "a_3_2) Создать массив b, состоящий из 1 строки и 10 столбцов: целых чисел, убывающих от 20 до 1 невключительно с интервалом 2. \n",
    "#) В чем разница между массивами a и b?"
   ]
  },
  {
   "cell_type": "code",
   "execution_count": 48,
   "metadata": {},
   "outputs": [
    {
     "name": "stdout",
     "output_type": "stream",
     "text": [
      "[20 18 16 14 12 10  8  6  4  2]\n"
     ]
    }
   ],
   "source": [
    "a_3_1=np.arange(20,0,-2)\n",
    "a_3_2=np.arange(20,1,-2)\n",
    "#Никакой разницы в обоих массивах нет."
   ]
  },
  {
   "cell_type": "markdown",
   "metadata": {},
   "source": [
    "ЗАДАНИЕ № 4\n",
    "\n",
    "a_1_x) Вертикально соединить массивы a и b. a - двумерный массив из нулей, число строк которого больше 1 и на 1 меньше, чем число строк двумерного массива b, состоящего из единиц. \n",
    "v) Итоговый массив v должен иметь атрибут size, равный 10."
   ]
  },
  {
   "cell_type": "code",
   "execution_count": 51,
   "metadata": {},
   "outputs": [
    {
     "data": {
      "text/plain": [
       "10"
      ]
     },
     "execution_count": 51,
     "metadata": {},
     "output_type": "execute_result"
    }
   ],
   "source": [
    "from typing import Concatenate\n",
    "\n",
    "\n",
    "a_4_1=np.zeros((3,2))\n",
    "a_4_2=np.ones((2,2))\n",
    "\n",
    "v=np.concatenate((a_4_1, a_4_2), axis=0)\n",
    "\n",
    "v.size\n"
   ]
  },
  {
   "cell_type": "markdown",
   "metadata": {},
   "source": [
    "ЗАДАНИЕ № 5\n",
    "\n",
    "а_5_1) Создать одномерный массив а, состоящий из последовательности целых чисел от 0 до 12. \n",
    "A) Поменять форму этого массива, чтобы получилась матрица A (двумерный массив Numpy), состоящая из 4 строк и 3 столбцов. \n",
    "At) Получить матрицу At путем транспонирования матрицы A. \n",
    "B) Получить матрицу B, умножив матрицу A на матрицу At с помощью матричного умножения. \n",
    "B.size) Какой размер имеет матрица B? \n",
    "B.rev) Получится ли вычислить обратную матрицу для матрицы B и почему?"
   ]
  },
  {
   "cell_type": "code",
   "execution_count": 135,
   "metadata": {},
   "outputs": [
    {
     "data": {
      "text/plain": [
       "0.0"
      ]
     },
     "execution_count": 135,
     "metadata": {},
     "output_type": "execute_result"
    }
   ],
   "source": [
    "a_5_1=np.arange(0,12)\n",
    "A=a_5_1.reshape(4,3)\n",
    "\n",
    "At=A.transpose()\n",
    "\n",
    "B=np.dot(A,At)\n",
    "\n",
    "B.size\n",
    "\n",
    "np.linalg.det(B) #Вычислить обратную матрицу В невозможно, тк определитель матрицы В равен 0.\n"
   ]
  },
  {
   "cell_type": "markdown",
   "metadata": {},
   "source": [
    "ЗАДАЧА № 6\n",
    "\n",
    "a_6_1) Инициализируйте генератор случайных числе с помощью объекта seed, равного 42. \n",
    "c) Создайте одномерный массив c, составленный из последовательности 16-ти случайных равномерно распределенных целых чисел от 0 до 16 невключительно. \n",
    "a_6_3) Поменяйте его форму так, чтобы получилась квадратная матрица C. \n",
    "D) Получите матрицу D, поэлементно прибавив матрицу B из предыдущего вопроса к матрице C, умноженной на 10. \n",
    "D_invВычислите определитель, ранг и обратную матрицу D_inv для D."
   ]
  },
  {
   "cell_type": "code",
   "execution_count": 139,
   "metadata": {},
   "outputs": [
    {
     "name": "stdout",
     "output_type": "stream",
     "text": [
      "0.0\n"
     ]
    }
   ],
   "source": [
    "a_6_1=np.random.seed(42)\n",
    "\n",
    "c=np.arange(0,16)\n",
    "\n",
    "np.sqrt(c.size)\n",
    "a_6_3=c.reshape(4,4)\n",
    "\n",
    "a_6_3.shape==B.shape\n",
    "D=10*a_6_3+B\n",
    "\n",
    "np.linalg.det(D)\n",
    "D_inv=np.linalg.det(D)\n",
    "print(D_inv)"
   ]
  },
  {
   "cell_type": "markdown",
   "metadata": {},
   "source": [
    "ЗАДАНИЕ № 7\n",
    "\n",
    "Приравняйте к нулю отрицательные числа в матрице D_inv, а положительные - к единице. Убедитесь, что в матрице D_inv остались только нули и единицы. С помощью функции numpy.where, используя матрицу D_inv в качестве маски, а матрицы B и C - в качестве источников данных, получите матрицу E размером 4x4. Элементы матрицы E, для которых соответствующий элемент матрицы D_inv равен 1, должны быть равны соответствующему элементу матрицы B, а элементы матрицы E, для которых соответствующий элемент матрицы D_inv равен 0, должны быть равны соответствующему элементу матрицы C."
   ]
  },
  {
   "cell_type": "code",
   "execution_count": 142,
   "metadata": {},
   "outputs": [
    {
     "ename": "TypeError",
     "evalue": "'numpy.float64' object does not support item assignment",
     "output_type": "error",
     "traceback": [
      "\u001b[1;31m---------------------------------------------------------------------------\u001b[0m",
      "\u001b[1;31mTypeError\u001b[0m                                 Traceback (most recent call last)",
      "Cell \u001b[1;32mIn [142], line 4\u001b[0m\n\u001b[0;32m      1\u001b[0m mask_positive \u001b[38;5;241m=\u001b[39m D_inv \u001b[38;5;241m>\u001b[39m \u001b[38;5;241m0\u001b[39m\n\u001b[0;32m      2\u001b[0m mask_negative \u001b[38;5;241m=\u001b[39m D_inv \u001b[38;5;241m<\u001b[39m \u001b[38;5;241m0\u001b[39m\n\u001b[1;32m----> 4\u001b[0m \u001b[43mD_inv\u001b[49m\u001b[43m[\u001b[49m\u001b[43mmask_positive\u001b[49m\u001b[43m]\u001b[49m \u001b[38;5;241m=\u001b[39m \u001b[38;5;241m1\u001b[39m\n\u001b[0;32m      5\u001b[0m D_inv[mask_negative] \u001b[38;5;241m=\u001b[39m \u001b[38;5;241m0\u001b[39m\n\u001b[0;32m      7\u001b[0m E \u001b[38;5;241m=\u001b[39m np\u001b[38;5;241m.\u001b[39mwhere(D_inv, B, a_6_3)\n",
      "\u001b[1;31mTypeError\u001b[0m: 'numpy.float64' object does not support item assignment"
     ]
    }
   ],
   "source": [
    "mask_positive = D_inv > 0\n",
    "mask_negative = D_inv < 0\n",
    "\n",
    "D_inv[mask_positive] = 1\n",
    "D_inv[mask_negative] = 0\n",
    "\n",
    "E = np.where(D_inv, B, a_6_3)"
   ]
  }
 ],
 "metadata": {
  "kernelspec": {
   "display_name": "Python 3.10.7 64-bit (microsoft store)",
   "language": "python",
   "name": "python3"
  },
  "language_info": {
   "codemirror_mode": {
    "name": "ipython",
    "version": 3
   },
   "file_extension": ".py",
   "mimetype": "text/x-python",
   "name": "python",
   "nbconvert_exporter": "python",
   "pygments_lexer": "ipython3",
   "version": "3.10.7"
  },
  "orig_nbformat": 4,
  "vscode": {
   "interpreter": {
    "hash": "05a8b45cdbf6459e0dc587c73d132bc5afb3269bf0831f6ca18739b001bf9a43"
   }
  }
 },
 "nbformat": 4,
 "nbformat_minor": 2
}
