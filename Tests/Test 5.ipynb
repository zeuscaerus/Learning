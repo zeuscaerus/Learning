{
 "cells": [
  {
   "cell_type": "code",
   "execution_count": 1,
   "metadata": {},
   "outputs": [
    {
     "name": "stdout",
     "output_type": "stream",
     "text": [
      "PythonPythonPythonPythonPythonPythonPythonPythonPythonPythonPythonPythonPythonPythonPythonPythonPythonPythonPythonPythonPythonPythonPythonPythonPythonPythonPythonPythonPythonPythonPythonPythonPythonPythonPythonPythonPythonPythonPythonPythonPythonPythonPythonPythonPythonPythonPythonPythonPythonPythonPythonPythonPythonPythonPythonPythonPythonPythonPythonPythonPythonPythonPythonPythonPythonPythonPythonPythonPythonPythonPythonPythonPythonPythonPythonPythonPythonPythonPythonPythonPythonPythonPythonPythonPythonPythonPythonPythonPythonPythonPythonPythonPythonPythonPythonPythonPythonPythonPythonPython\n"
     ]
    }
   ],
   "source": [
    "print('Python'*100)"
   ]
  },
  {
   "cell_type": "code",
   "execution_count": 4,
   "metadata": {},
   "outputs": [
    {
     "name": "stdout",
     "output_type": "stream",
     "text": [
      "Python is very simple language\n",
      "Hello\n",
      "Python is very popular language.\n",
      "It is also friendly language.\n",
      "Wel come\n",
      "Welcome Python\n",
      "WelcomePython:\n"
     ]
    }
   ],
   "source": [
    "print(\"Python is very simple language\")\n",
    "print('Hello')\n",
    "print(\"\"\"Python is very popular language.\n",
    "It is also friendly language.\"\"\")\n",
    "str1 = 'Wel'\n",
    "print(str1,'come') \n",
    "str1 = 'Welcome'\n",
    "str2 = 'Python'\n",
    "print(str1, str2)\n",
    "str1 = 'Python'\n",
    "str2 = ':'\n",
    "print('Welcome' + str1 + str2)"
   ]
  },
  {
   "cell_type": "code",
   "execution_count": 5,
   "metadata": {},
   "outputs": [
    {
     "name": "stdout",
     "output_type": "stream",
     "text": [
      "1, bar and 3.14\n",
      "1, bar, 3.14, and bar\n",
      "3.14, 1, 3.14, and bar\n",
      "X value is: 2. Y value is: 3.\n",
      "~~~~~~centered~~~~~~\n",
      "The number is:123\n",
      "The float number is:123.456790\n",
      "bin: 1100, oct: 14, hex: c\n",
      "   12\n",
      "  12.235  \n",
      "12000\n",
      "- 12.235\n",
      "+12.230000 -12.230000\n",
      "12.230000 -12.230000\n",
      " 12.230000 -12.230000\n",
      "cat  \n",
      "  cat\n",
      " cat \n",
      "*cat*\n"
     ]
    }
   ],
   "source": [
    "foo = 1  # Задаем значения переменных\n",
    "bar = 'bar'  # Задаем значения переменных\n",
    "baz = 3.14  # Задаем значения переменных\n",
    "print('{}, {} and {}'.format(foo, bar, baz)) # Пары в скобках заменяются аргументами в порядке их передачи \"1, bar and 3.14\"\n",
    "print('{0}, {1}, {2}, and {1}'.format(foo, bar, baz)) # Номера соответствуют индексам аргументов : \"1, bar, 3.14, and bar\" \n",
    "print('{2}, {0}, {2}, and {1}'.format(foo, bar, baz)) # Номера соответствуют индексам аргументов \n",
    "#print('{0}, {1}, {2}, and {3}'.format(foo, bar, baz))  выдает ошибку так как индекс 3 не существует\n",
    "print(\"X value is: {xx}. Y value is: {yyl}.\".format(xx=2, yyl=3)) # Можно использовать именованные аргументы \n",
    "# аргументы по умолчанию                                                                                                                                                                                 print(\"Hello {}, your balance is {}.\".format(\"Adam\", 230.2346)) \n",
    " # позиционные аргументы                                                                                                                                                                                      print(\"Hello {0}, your balance is {1}.\".format(\"Adam\", 230.2346)) \n",
    " # аргументы ключевые слова                                                                                                                                                                                print(\"Hello {name}, your balance is {blc}.\".format(name=\"Adam\", blc=230.2346)) \n",
    " # смешанные аргументы                                                                                                                                                                                       print(\"Hello {0}, your balance is {blc}.\".format(\"Adam\", blc=230.2346))\n",
    "print('{:~^20}'.format('centered')) #вы можете также включать в спецификацию формата внутри фигурных скобок.                                                                                           #Это выражение , которое следует , и особые правила должны предшествовать двоеточие ( : ).                                                                      # :~^20 ( ^ означает выравнивание по центру, общая ширина 20, подстановка символа ~ )\n",
    "\n",
    "# целочисленные аргументы\n",
    "print(\"The number is:{:d}\".format(123))\n",
    "\n",
    " # аргументы с плавающей точкой\n",
    "print(\"The float number is:{:f}\".format(123.4567898))\n",
    "\n",
    " # восьмеричный, двоичный и шестнадцатеричный формат\n",
    "print(\"bin: {0:b}, oct: {0:o}, hex: {0:x}\".format(12))\n",
    "\n",
    "# целые числа с выравниванием по правому краю\n",
    "print(\"{:5d}\".format(12))\n",
    "\n",
    " # числа с плавающей точкой с выравниванием по центру\n",
    "print(\"{:^10.3f}\".format(12.2346))\n",
    "\n",
    " # выравнивание целого числа по левому краю заполнено нулями\n",
    "print(\"{:<05d}\".format(12))\n",
    "\n",
    " # числа с плавающей точкой с выравниванием по центру\n",
    "print(\"{:=8.3f}\".format(-12.2346))\n",
    "\n",
    "# показать знак +\n",
    "print(\"{:+f} {:+f}\".format(12.23, -12.23))\n",
    "\n",
    " # показать знак -\n",
    "print(\"{:-f} {:-f}\".format(12.23, -12.23))\n",
    " # показать место для знака +\n",
    "print(\"{: f} {: f}\".format(12.23, -12.23))\n",
    "# отступ строки с выравниванием по левому краю\n",
    "print(\"{:5}\".format(\"cat\"))\n",
    " # отступ строки с выравниванием по правому краю\n",
    "print(\"{:>5}\".format(\"cat\"))\n",
    " # заполнение строк с выравниванием по центру\n",
    "print(\"{:^5}\".format(\"cat\"))\n",
    " # заполнение строк с выравниванием по центру # и '*' - символ заполнения\n",
    "print(\"{:*^5}\".format(\"cat\"))"
   ]
  },
  {
   "cell_type": "code",
   "execution_count": 6,
   "metadata": {},
   "outputs": [
    {
     "name": "stdout",
     "output_type": "stream",
     "text": [
      "Welcome Python\n",
      "Actual Number = 15\n",
      "Exponential equivalent of the number = 1.500000e+01\n",
      "Float of the number = 15.000000\n",
      "Octal equivalent of the number = 17\n",
      "Hexadecimal equivalent of the number = f\n",
      "Python World :\n",
      "Welcome to %Python language\n",
      "Sunday\n",
      "Monday\n",
      "Tuesday\n",
      "Wednesday\n",
      "Thursday\n",
      "Friday\n",
      "Saturday\n",
      "\n",
      "Language:\n",
      "\t1 Python\n",
      "\t2 Java\n",
      "\t3 JavaScript\n",
      "\n"
     ]
    }
   ],
   "source": [
    "str1 = 'Python'\n",
    "print(\"Welcome %s\" % str1)\n",
    "print(\"Actual Number = %d\" %15)\n",
    "print(\"Exponential equivalent of the number = %e\" %15)\n",
    "print(\"Float of the number = %f\" %15)\n",
    "print(\"Octal equivalent of the number = %o\" %15)\n",
    "print(\"Hexadecimal equivalent of the number = %x\" %15)\n",
    "str1 = 'World'\n",
    "str2 = ':'\n",
    "print(\"Python %s %s\" %(str1,str2))\n",
    "print(\"Welcome to %%Python %s\" %'language')\n",
    "print(\"Sunday\\nMonday\\nTuesday\\nWednesday\\nThursday\\nFriday\\nSaturday\")\n",
    "print(\"\"\"\n",
    "Language:\n",
    "\\t1 Python\n",
    "\\t2 Java\\n\\t3 JavaScript\n",
    "\"\"\")"
   ]
  },
  {
   "cell_type": "code",
   "execution_count": 42,
   "metadata": {},
   "outputs": [
    {
     "name": "stdout",
     "output_type": "stream",
     "text": [
      "1.414\n"
     ]
    }
   ],
   "source": [
    "x1, y1=map(float,input().split())\n",
    "x2, y2=map(float,input().split())\n",
    "l=float(((x2-x1)**2+(y2-y1)**2)**0.5)\n",
    "print(\"%.3f\" % l)"
   ]
  },
  {
   "cell_type": "code",
   "execution_count": 48,
   "metadata": {},
   "outputs": [
    {
     "name": "stdout",
     "output_type": "stream",
     "text": [
      "4+5+7=16\n",
      "4*5*7=140\n",
      "(4+5+7)/3=5.333\n"
     ]
    }
   ],
   "source": [
    "a=int(input())\n",
    "b=int(input())\n",
    "c=int(input())\n",
    "print(f\"{a}+{b}+{c}={a+b+c}\")\n",
    "print(f\"{a}*{b}*{c}={a*b*c}\")\n",
    "print(f\"({a}+{b}+{c})/3={round((a+b+c)/3, 3)}\")"
   ]
  },
  {
   "cell_type": "code",
   "execution_count": 49,
   "metadata": {},
   "outputs": [
    {
     "name": "stdout",
     "output_type": "stream",
     "text": [
      "5.123457\n",
      "5.12346\n",
      "  5.12346\n",
      "000000005.12346\n",
      " 5.123457\n",
      "-5.123457\n",
      "5.1235   \n"
     ]
    }
   ],
   "source": [
    "print(\"%f\" % 5.1234567890)\n",
    "print(\"%.5f\" % 5.1234567890)\n",
    "print(\"%9.5f\" % 5.1234567890)\n",
    "print(\"%015.5f\" % 5.1234567890)\n",
    "print(\"% 9f\" % 5.1234567890)\n",
    "print(\"% 9f\" % -5.1234567890)\n",
    "print(\"%-9.4f\" % 5.1234567890)"
   ]
  },
  {
   "cell_type": "code",
   "execution_count": 51,
   "metadata": {},
   "outputs": [
    {
     "name": "stdout",
     "output_type": "stream",
     "text": [
      "1024.000\n"
     ]
    }
   ],
   "source": [
    "x=float(input())\n",
    "y=x**10\n",
    "print('%.3f'%y)"
   ]
  },
  {
   "cell_type": "code",
   "execution_count": 59,
   "metadata": {},
   "outputs": [
    {
     "name": "stdout",
     "output_type": "stream",
     "text": [
      "100\n",
      "Ваша сдача составляет 0 руб. 1 коп.\n"
     ]
    }
   ],
   "source": [
    "a=int(input())\n",
    "b=int(input())\n",
    "c=int(input())\n",
    "d=int(input())\n",
    "print( f'Ваша сдача составляет {c-a} руб. {d-b} коп.')"
   ]
  },
  {
   "cell_type": "code",
   "execution_count": 60,
   "metadata": {},
   "outputs": [
    {
     "name": "stdout",
     "output_type": "stream",
     "text": [
      "1 2 3\n"
     ]
    }
   ],
   "source": [
    "s=input()\n",
    "print(' '.join(s))"
   ]
  }
 ],
 "metadata": {
  "kernelspec": {
   "display_name": "Python 3.10.7 64-bit",
   "language": "python",
   "name": "python3"
  },
  "language_info": {
   "codemirror_mode": {
    "name": "ipython",
    "version": 3
   },
   "file_extension": ".py",
   "mimetype": "text/x-python",
   "name": "python",
   "nbconvert_exporter": "python",
   "pygments_lexer": "ipython3",
   "version": "3.10.7"
  },
  "orig_nbformat": 4,
  "vscode": {
   "interpreter": {
    "hash": "8d7cb472eb4f6eb093ff767bf69b4e64fe5027d61ef41eac4770187a06a8b999"
   }
  }
 },
 "nbformat": 4,
 "nbformat_minor": 2
}
