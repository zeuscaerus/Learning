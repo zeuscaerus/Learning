{
 "cells": [
  {
   "cell_type": "code",
   "execution_count": 30,
   "metadata": {},
   "outputs": [
    {
     "name": "stdout",
     "output_type": "stream",
     "text": [
      "winter\n"
     ]
    }
   ],
   "source": [
    "x=int(input())\n",
    "if x==12:\n",
    "    print('winter')\n",
    "elif 0<x<3:\n",
    "    print('winter')\n",
    "elif 2<x<6:\n",
    "    print('spring')\n",
    "elif 5<x<9:\n",
    "    print('summer')\n",
    "elif 8<x<=11:\n",
    "    print('autumn')\n",
    "else:\n",
    "    print('NO')"
   ]
  },
  {
   "cell_type": "code",
   "execution_count": 32,
   "metadata": {},
   "outputs": [
    {
     "name": "stdout",
     "output_type": "stream",
     "text": [
      "2\n"
     ]
    }
   ],
   "source": [
    "a=int(input())\n",
    "b=int(input())\n",
    "if a>b:\n",
    "    print(a)\n",
    "else:\n",
    "    print(b)"
   ]
  },
  {
   "cell_type": "code",
   "execution_count": 43,
   "metadata": {},
   "outputs": [
    {
     "name": "stdout",
     "output_type": "stream",
     "text": [
      "NO\n"
     ]
    }
   ],
   "source": [
    "x=int(input())\n",
    "if (x%4==0) and (x%100!=0) or (x%400==0):\n",
    "    print('YES')\n",
    "else:\n",
    "    print('NO')"
   ]
  },
  {
   "cell_type": "code",
   "execution_count": 46,
   "metadata": {},
   "outputs": [
    {
     "name": "stdout",
     "output_type": "stream",
     "text": [
      "0\n"
     ]
    }
   ],
   "source": [
    "x=int(input())\n",
    "if x > 0:\n",
    "    print('1')\n",
    "elif -1<x<1:\n",
    "    print('0')\n",
    "else:\n",
    "    print('-1')"
   ]
  },
  {
   "cell_type": "code",
   "execution_count": 57,
   "metadata": {},
   "outputs": [
    {
     "name": "stdout",
     "output_type": "stream",
     "text": [
      "3\n"
     ]
    }
   ],
   "source": [
    "a=int(input())\n",
    "b=int(input())\n",
    "c=int(input())\n",
    "if a==b==c :\n",
    "    print('3')\n",
    "elif a==b or b==c or c==a:\n",
    "    print('2')\n",
    "else:\n",
    "    print('0')"
   ]
  },
  {
   "cell_type": "code",
   "execution_count": 107,
   "metadata": {},
   "outputs": [
    {
     "name": "stdout",
     "output_type": "stream",
     "text": [
      "31\n"
     ]
    }
   ],
   "source": [
    "a=int(input())\n",
    "if a==0 or a>12:\n",
    "    print('0')\n",
    "elif a == 1 or a == 3 or a==5 or a==7 or a==8 or a==10 or a==12:\n",
    "    print('31')\n",
    "elif a==4 or a==6 or a==9 or a==11:\n",
    "    print('30')\n",
    "elif a==2:\n",
    "    print('28')"
   ]
  }
 ],
 "metadata": {
  "kernelspec": {
   "display_name": "Python 3.10.7 64-bit",
   "language": "python",
   "name": "python3"
  },
  "language_info": {
   "codemirror_mode": {
    "name": "ipython",
    "version": 3
   },
   "file_extension": ".py",
   "mimetype": "text/x-python",
   "name": "python",
   "nbconvert_exporter": "python",
   "pygments_lexer": "ipython3",
   "version": "3.10.7"
  },
  "orig_nbformat": 4,
  "vscode": {
   "interpreter": {
    "hash": "8d7cb472eb4f6eb093ff767bf69b4e64fe5027d61ef41eac4770187a06a8b999"
   }
  }
 },
 "nbformat": 4,
 "nbformat_minor": 2
}
