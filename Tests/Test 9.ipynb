{
 "cells": [
  {
   "cell_type": "code",
   "execution_count": 42,
   "metadata": {},
   "outputs": [
    {
     "name": "stdout",
     "output_type": "stream",
     "text": [
      "2\n"
     ]
    }
   ],
   "source": [
    "import math\n",
    "s=0\n",
    "n = int(input())\n",
    "x = [(n//(10**i))%10 for i in range(math.ceil(math.log(n, 10))-1, -1, -1)]\n",
    "for item in x:\n",
    "    if item <= 6:\n",
    "        s += 1\n",
    "print(s)"
   ]
  },
  {
   "cell_type": "code",
   "execution_count": 51,
   "metadata": {},
   "outputs": [
    {
     "name": "stdout",
     "output_type": "stream",
     "text": [
      "1\n"
     ]
    }
   ],
   "source": [
    "import math\n",
    "n, p = int(input()), int(input())\n",
    "x = [(n//(10**i))%10 for i in range(math.ceil(math.log(n, 10))-1, -1, -1)]\n",
    "y = [(p//(10**i))%10 for i in range(math.ceil(math.log(p, 10))-1, -1, -1)]\n",
    "f_n=sum(x)\n",
    "s_n=sum(y)\n",
    "if f_n>s_n:\n",
    "    print('1')\n",
    "elif f_n<s_n:\n",
    "    print('2')\n",
    "else:\n",
    "    print('0')"
   ]
  },
  {
   "cell_type": "code",
   "execution_count": 60,
   "metadata": {},
   "outputs": [
    {
     "name": "stdout",
     "output_type": "stream",
     "text": [
      "4\n"
     ]
    }
   ],
   "source": [
    "import math\n",
    "s=0\n",
    "n = int(input())\n",
    "x = [(n//(10**i))%10 for i in range(math.ceil(math.log(n, 10))-1, -1, -1)]\n",
    "x.sort()\n",
    "print(x[0])"
   ]
  },
  {
   "cell_type": "code",
   "execution_count": 1,
   "metadata": {},
   "outputs": [
    {
     "name": "stdout",
     "output_type": "stream",
     "text": [
      "8\n"
     ]
    }
   ],
   "source": [
    "import math\n",
    "s=0\n",
    "n = int(input())\n",
    "x = [(n//(10**i))%10 for i in range(math.ceil(math.log(n, 10))-1, -1, -1)]\n",
    "print(x[0])"
   ]
  },
  {
   "cell_type": "code",
   "execution_count": 5,
   "metadata": {},
   "outputs": [
    {
     "name": "stdout",
     "output_type": "stream",
     "text": [
      "1\n"
     ]
    }
   ],
   "source": [
    "x = int(input())\n",
    "z = 0\n",
    "while x>0:\n",
    "    x = x//10\n",
    "    if x%10 <= 6:\n",
    "        z = z + 1\n",
    "print(z)"
   ]
  }
 ],
 "metadata": {
  "kernelspec": {
   "display_name": "Python 3.10.7 64-bit",
   "language": "python",
   "name": "python3"
  },
  "language_info": {
   "codemirror_mode": {
    "name": "ipython",
    "version": 3
   },
   "file_extension": ".py",
   "mimetype": "text/x-python",
   "name": "python",
   "nbconvert_exporter": "python",
   "pygments_lexer": "ipython3",
   "version": "3.10.7"
  },
  "orig_nbformat": 4,
  "vscode": {
   "interpreter": {
    "hash": "8d7cb472eb4f6eb093ff767bf69b4e64fe5027d61ef41eac4770187a06a8b999"
   }
  }
 },
 "nbformat": 4,
 "nbformat_minor": 2
}
